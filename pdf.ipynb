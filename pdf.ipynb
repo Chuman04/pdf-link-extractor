{
  "nbformat": 4,
  "nbformat_minor": 0,
  "metadata": {
    "colab": {
      "provenance": []
    },
    "kernelspec": {
      "name": "python3",
      "display_name": "Python 3"
    },
    "language_info": {
      "name": "python"
    }
  },
  "cells": [
    {
      "cell_type": "code",
      "execution_count": 2,
      "metadata": {
        "colab": {
          "base_uri": "https://localhost:8080/"
        },
        "id": "bbFe3o7Y9zuZ",
        "outputId": "7cbe2d7a-e437-4223-f72e-f3371f277730"
      },
      "outputs": [
        {
          "output_type": "stream",
          "name": "stdout",
          "text": [
            "https://icrrd.com/public/media/15-05-2021-052358It-Ends-with-Us.pdf\n",
            "https://archive.org/download/3_20240517_20240517_1505/It_Ends_With_Us_A_Novel_-_Colleen_Hoover.pdf\n",
            "https://spjnewswire.jrn.columbia.edu/drive?pdfid=S28i872&FilesData=It_Ends_With_Us_A_Novel_1_By_Colleen_Hoover.pdf\n",
            "https://www.booklooks.org/data/files/Book%20Looks%20Reports/I/It%20Ends%20With%20Us.pdf\n",
            "https://s1.papyruspub.com/files/demos/products/ebooks/novels/romance/Preview-It-Ends-With-Us.pdf\n",
            "https://spjnewswire.jrn.columbia.edu/access?docid=L10f891&FilesData=It_Ends_With_Us_A_Novel_1_By_Colleen_Hoover.pdf\n",
            "https://docs.johnstonlibrary.com/ItEndsWithUs.pdf\n",
            "https://cdn.prod.website-files.com/66f3d2b1b4f4ec700edd555d/674cee11e98132f9c8da86a3_katet.pdf\n",
            "https://www.myessaywriter.ai/include/what-is-a-summary-and-how-to-use-ai-summarizer/it-ends-with-us-summary.pdf\n",
            "https://www.dobleespacio.uchile.cl/display?dataid=K09x952&FilesData=It_Ends_With_Us_A_Novel_1_By_Colleen_Hoover.pdf\n"
          ]
        }
      ],
      "source": [
        "from googlesearch import search\n",
        "import re\n",
        "\n",
        "# Define your dorking query\n",
        "query = 'filetype:pdf \"it ends with us\"'\n",
        "\n",
        "# Search Google using the query\n",
        "results = []\n",
        "try:\n",
        "    # Search and fetch PDF links\n",
        "    for url in search(query, num=10, stop=10, pause=2):\n",
        "        if re.search(r'\\.pdf$', url, re.IGNORECASE):  # Ensure only PDF links are added\n",
        "            results.append(url)\n",
        "except Exception as e:\n",
        "    print(f\"An error occurred: {e}\")\n",
        "\n",
        "# Print the found PDF links\n",
        "for pdf_link in results:\n",
        "    print(pdf_link)"
      ]
    }
  ]
}